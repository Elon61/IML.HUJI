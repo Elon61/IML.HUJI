{
 "cells": [
  {
   "cell_type": "code",
   "execution_count": 1,
   "metadata": {
    "collapsed": true
   },
   "outputs": [
    {
     "ename": "NameError",
     "evalue": "name 'BaseEstimator' is not defined",
     "output_type": "error",
     "traceback": [
      "\u001B[1;31m---------------------------------------------------------------------------\u001B[0m",
      "\u001B[1;31mNameError\u001B[0m                                 Traceback (most recent call last)",
      "\u001B[1;32m~\\AppData\\Local\\Temp\\ipykernel_39104\\1107030491.py\u001B[0m in \u001B[0;36m<module>\u001B[1;34m\u001B[0m\n\u001B[1;32m----> 1\u001B[1;33m \u001B[1;32mimport\u001B[0m \u001B[0magoda_cancellation_prediction\u001B[0m\u001B[1;33m\u001B[0m\u001B[1;33m\u001B[0m\u001B[0m\n\u001B[0m\u001B[0;32m      2\u001B[0m \u001B[1;32mfrom\u001B[0m \u001B[0msklearn\u001B[0m\u001B[1;33m.\u001B[0m\u001B[0mmodel_selection\u001B[0m \u001B[1;32mimport\u001B[0m \u001B[0mtrain_test_split\u001B[0m\u001B[1;33m\u001B[0m\u001B[1;33m\u001B[0m\u001B[0m\n",
      "\u001B[1;32m~\\Coding\\PyCharmProjects\\Uni\\IML.HUJI\\challenge\\agoda_cancellation_prediction.py\u001B[0m in \u001B[0;36m<module>\u001B[1;34m\u001B[0m\n\u001B[0;32m     33\u001B[0m \u001B[1;33m\u001B[0m\u001B[0m\n\u001B[0;32m     34\u001B[0m \u001B[1;33m\u001B[0m\u001B[0m\n\u001B[1;32m---> 35\u001B[1;33m \u001B[1;32mdef\u001B[0m \u001B[0mevaluate_and_export\u001B[0m\u001B[1;33m(\u001B[0m\u001B[0mestimator\u001B[0m\u001B[1;33m:\u001B[0m \u001B[0mBaseEstimator\u001B[0m\u001B[1;33m,\u001B[0m \u001B[0mX\u001B[0m\u001B[1;33m:\u001B[0m \u001B[0mnp\u001B[0m\u001B[1;33m.\u001B[0m\u001B[0mndarray\u001B[0m\u001B[1;33m,\u001B[0m \u001B[0mfilename\u001B[0m\u001B[1;33m:\u001B[0m \u001B[0mstr\u001B[0m\u001B[1;33m)\u001B[0m\u001B[1;33m:\u001B[0m\u001B[1;33m\u001B[0m\u001B[1;33m\u001B[0m\u001B[0m\n\u001B[0m\u001B[0;32m     36\u001B[0m     \"\"\"\n\u001B[0;32m     37\u001B[0m     \u001B[0mExport\u001B[0m \u001B[0mto\u001B[0m \u001B[0mspecified\u001B[0m \u001B[0mfile\u001B[0m \u001B[0mthe\u001B[0m \u001B[0mprediction\u001B[0m \u001B[0mresults\u001B[0m \u001B[0mof\u001B[0m \u001B[0mgiven\u001B[0m \u001B[0mestimator\u001B[0m \u001B[0mon\u001B[0m \u001B[0mgiven\u001B[0m \u001B[0mtestset\u001B[0m\u001B[1;33m.\u001B[0m\u001B[1;33m\u001B[0m\u001B[1;33m\u001B[0m\u001B[0m\n",
      "\u001B[1;31mNameError\u001B[0m: name 'BaseEstimator' is not defined"
     ]
    }
   ],
   "source": [
    "from agoda_cancellation_prediction import *\n",
    "from sklearn.model_selection import train_test_split\n",
    "import numpy as np"
   ]
  },
  {
   "cell_type": "code",
   "execution_count": null,
   "outputs": [],
   "source": [
    "np.random.seed(0)\n",
    "\n",
    "# Load data\n",
    "df, cancellation_labels = load_data(\"../datasets/agoda_cancellation_train.csv\")\n",
    "df_2, _ = load_data(\"../datasets/test_set_week_1.csv\", True)  # new data\n",
    "train_X, test_X, train_y, test_y = train_test_split(df, cancellation_labels, train_size=0.75, test_size=0.25,\n",
    "                                                    random_state=None)\n",
    "\n",
    "# Fit model over data\n",
    "# print(train_X)\n",
    "# print(train_y)\n",
    "# print(test_X)\n",
    "print(test_y.shape[0])\n",
    "estimator = AgodaCancellationEstimator().fit(train_X, train_y)\n",
    "\n",
    "# Store model predictions over test set\n",
    "print(df_2.columns)\n",
    "print(test_X.columns)\n",
    "evaluate_and_export(estimator, test_X, \"315444166_209967025_209172949_DONOTSUBMIT.csv\")\n",
    "evaluate_and_export(estimator, df_2, \"315444166_209967025_209172949.csv\")\n",
    "res = pd.read_csv(\"315444166_209967025_209172949.csv\")\n",
    "res_ = pd.read_csv(\"315444166_209967025_209172949_.csv\")\n",
    "res1 = res.predicted_values.reset_index(drop=True)\n",
    "res1_ = res_.predicted_values.reset_index(drop=True)\n",
    "res2 = test_y.reset_index(drop=True)\n",
    "print((res1 == res2).sum() / test_y.shape[0])\n",
    "# print(res2)\n",
    "# print(test_y == res.predicted_values)\n",
    "pd.DataFrame(res1 == res2).to_csv(\"Definitely our solution.csv\", index=False)"
   ],
   "metadata": {
    "collapsed": false,
    "pycharm": {
     "name": "#%%\n"
    }
   }
  }
 ],
 "metadata": {
  "kernelspec": {
   "display_name": "Python 3",
   "language": "python",
   "name": "python3"
  },
  "language_info": {
   "codemirror_mode": {
    "name": "ipython",
    "version": 2
   },
   "file_extension": ".py",
   "mimetype": "text/x-python",
   "name": "python",
   "nbconvert_exporter": "python",
   "pygments_lexer": "ipython2",
   "version": "2.7.6"
  }
 },
 "nbformat": 4,
 "nbformat_minor": 0
}