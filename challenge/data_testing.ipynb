{
 "cells": [
  {
   "cell_type": "markdown",
   "metadata": {
    "collapsed": true,
    "pycharm": {
     "name": "#%% md\n"
    }
   },
   "source": [
    "just stuff"
   ]
  },
  {
   "cell_type": "code",
   "execution_count": 1,
   "outputs": [],
   "source": [
    "import pandas as pd"
   ],
   "metadata": {
    "collapsed": false,
    "pycharm": {
     "name": "#%%\n"
    }
   }
  },
  {
   "cell_type": "code",
   "execution_count": 2,
   "outputs": [],
   "source": [
    "data = pd.read_csv(\"../datasets/agoda_cancellation_train.csv\")"
   ],
   "metadata": {
    "collapsed": false,
    "pycharm": {
     "name": "#%%\n"
    }
   }
  },
  {
   "cell_type": "code",
   "execution_count": 39,
   "outputs": [
    {
     "data": {
      "text/plain": "              h_booking_id     booking_datetime         checkin_date  \\\n0     -9223194055642672935  2018-06-28 21:15:00  2018-07-09 00:00:00   \n1     -9222713784330706132  2018-08-10 22:31:00  2018-08-16 00:00:00   \n2     -9222411208325704942  2018-09-14 07:55:00  2018-09-14 00:00:00   \n3     -9222220845872895471  2018-06-25 07:33:00  2018-07-02 00:00:00   \n4     -9221127186162682116  2018-07-23 10:06:00  2018-08-09 00:00:00   \n...                    ...                  ...                  ...   \n58654  9221958224902563533  2018-07-18 22:07:00  2018-08-04 00:00:00   \n58655  9222015611933681753  2018-09-05 12:07:00  2018-09-06 00:00:00   \n58656  9222651806661094957  2018-06-08 23:23:00  2018-08-09 00:00:00   \n58657  9223221736086584899  2018-09-02 08:18:00  2018-09-10 00:00:00   \n58658  9223338323510018406  2018-07-07 10:46:00  2018-07-12 00:00:00   \n\n             checkout_date  hotel_id hotel_country_code      hotel_live_date  \\\n0      2018-07-13 00:00:00      6452                 HK  2009-06-28 02:02:00   \n1      2018-08-17 00:00:00     47729                 CN  2011-06-07 11:52:00   \n2      2018-09-15 00:00:00    780431                 KR  2014-11-20 15:43:00   \n3      2018-07-03 00:00:00    291365                 JP  2011-11-21 12:27:00   \n4      2018-08-10 00:00:00    479046                 TH  2013-06-06 10:04:00   \n...                    ...       ...                ...                  ...   \n58654  2018-08-05 00:00:00   2975682                 ID  2017-10-12 11:01:00   \n58655  2018-09-08 00:00:00   3579174                 PH  2017-11-30 00:42:00   \n58656  2018-08-11 00:00:00    407156                 TH  2015-03-14 05:18:00   \n58657  2018-09-12 00:00:00    303186                 DE  2012-04-13 17:48:00   \n58658  2018-07-14 00:00:00   2227632                 HK  2017-06-19 10:06:00   \n\n       hotel_star_rating        accommadation_type_name charge_option  ...  \\\n0                    4.0                          Hotel       Pay Now  ...   \n1                    4.0                          Hotel     Pay Later  ...   \n2                    4.0                          Hotel       Pay Now  ...   \n3                    3.0                          Hotel     Pay Later  ...   \n4                    3.0                         Resort     Pay Later  ...   \n...                  ...                            ...           ...  ...   \n58654                2.0  Guest House / Bed & Breakfast       Pay Now  ...   \n58655                4.0                      Apartment       Pay Now  ...   \n58656                5.0                          Hotel       Pay Now  ...   \n58657                0.0                         Hostel       Pay Now  ...   \n58658                4.0                          Hotel       Pay Now  ...   \n\n       request_highfloor request_largebed  request_twinbeds request_airport  \\\n0                    NaN              NaN               NaN             NaN   \n1                    0.0              0.0               1.0             0.0   \n2                    0.0              0.0               0.0             0.0   \n3                    0.0              1.0               0.0             0.0   \n4                    0.0              1.0               0.0             0.0   \n...                  ...              ...               ...             ...   \n58654                0.0              1.0               0.0             0.0   \n58655                0.0              0.0               0.0             0.0   \n58656                NaN              NaN               NaN             NaN   \n58657                0.0              0.0               1.0             0.0   \n58658                NaN              NaN               NaN             NaN   \n\n       request_earlycheckin  cancellation_datetime  hotel_area_code  \\\n0                       NaN                    NaN             1192   \n1                       0.0                    NaN             5617   \n2                       0.0                    NaN             3819   \n3                       0.0                    NaN             2379   \n4                       0.0             2018-07-23             1506   \n...                     ...                    ...              ...   \n58654                   0.0             2018-07-22              995   \n58655                   0.0                    NaN              674   \n58656                   NaN                    NaN             3823   \n58657                   0.0                    NaN             4663   \n58658                   NaN                    NaN             3023   \n\n       hotel_brand_code hotel_chain_code hotel_city_code  \n0                   NaN              NaN             142  \n1                 902.0            600.0            1273  \n2                   NaN              NaN            2799  \n3                 466.0            236.0            1448  \n4                   NaN              NaN             616  \n...                 ...              ...             ...  \n58654               NaN              NaN            2066  \n58655               NaN              NaN            2310  \n58656             754.0             55.0            2477  \n58657               NaN              NaN            1935  \n58658             477.0            638.0             142  \n\n[58659 rows x 39 columns]",
      "text/html": "<div>\n<style scoped>\n    .dataframe tbody tr th:only-of-type {\n        vertical-align: middle;\n    }\n\n    .dataframe tbody tr th {\n        vertical-align: top;\n    }\n\n    .dataframe thead th {\n        text-align: right;\n    }\n</style>\n<table border=\"1\" class=\"dataframe\">\n  <thead>\n    <tr style=\"text-align: right;\">\n      <th></th>\n      <th>h_booking_id</th>\n      <th>booking_datetime</th>\n      <th>checkin_date</th>\n      <th>checkout_date</th>\n      <th>hotel_id</th>\n      <th>hotel_country_code</th>\n      <th>hotel_live_date</th>\n      <th>hotel_star_rating</th>\n      <th>accommadation_type_name</th>\n      <th>charge_option</th>\n      <th>...</th>\n      <th>request_highfloor</th>\n      <th>request_largebed</th>\n      <th>request_twinbeds</th>\n      <th>request_airport</th>\n      <th>request_earlycheckin</th>\n      <th>cancellation_datetime</th>\n      <th>hotel_area_code</th>\n      <th>hotel_brand_code</th>\n      <th>hotel_chain_code</th>\n      <th>hotel_city_code</th>\n    </tr>\n  </thead>\n  <tbody>\n    <tr>\n      <th>0</th>\n      <td>-9223194055642672935</td>\n      <td>2018-06-28 21:15:00</td>\n      <td>2018-07-09 00:00:00</td>\n      <td>2018-07-13 00:00:00</td>\n      <td>6452</td>\n      <td>HK</td>\n      <td>2009-06-28 02:02:00</td>\n      <td>4.0</td>\n      <td>Hotel</td>\n      <td>Pay Now</td>\n      <td>...</td>\n      <td>NaN</td>\n      <td>NaN</td>\n      <td>NaN</td>\n      <td>NaN</td>\n      <td>NaN</td>\n      <td>NaN</td>\n      <td>1192</td>\n      <td>NaN</td>\n      <td>NaN</td>\n      <td>142</td>\n    </tr>\n    <tr>\n      <th>1</th>\n      <td>-9222713784330706132</td>\n      <td>2018-08-10 22:31:00</td>\n      <td>2018-08-16 00:00:00</td>\n      <td>2018-08-17 00:00:00</td>\n      <td>47729</td>\n      <td>CN</td>\n      <td>2011-06-07 11:52:00</td>\n      <td>4.0</td>\n      <td>Hotel</td>\n      <td>Pay Later</td>\n      <td>...</td>\n      <td>0.0</td>\n      <td>0.0</td>\n      <td>1.0</td>\n      <td>0.0</td>\n      <td>0.0</td>\n      <td>NaN</td>\n      <td>5617</td>\n      <td>902.0</td>\n      <td>600.0</td>\n      <td>1273</td>\n    </tr>\n    <tr>\n      <th>2</th>\n      <td>-9222411208325704942</td>\n      <td>2018-09-14 07:55:00</td>\n      <td>2018-09-14 00:00:00</td>\n      <td>2018-09-15 00:00:00</td>\n      <td>780431</td>\n      <td>KR</td>\n      <td>2014-11-20 15:43:00</td>\n      <td>4.0</td>\n      <td>Hotel</td>\n      <td>Pay Now</td>\n      <td>...</td>\n      <td>0.0</td>\n      <td>0.0</td>\n      <td>0.0</td>\n      <td>0.0</td>\n      <td>0.0</td>\n      <td>NaN</td>\n      <td>3819</td>\n      <td>NaN</td>\n      <td>NaN</td>\n      <td>2799</td>\n    </tr>\n    <tr>\n      <th>3</th>\n      <td>-9222220845872895471</td>\n      <td>2018-06-25 07:33:00</td>\n      <td>2018-07-02 00:00:00</td>\n      <td>2018-07-03 00:00:00</td>\n      <td>291365</td>\n      <td>JP</td>\n      <td>2011-11-21 12:27:00</td>\n      <td>3.0</td>\n      <td>Hotel</td>\n      <td>Pay Later</td>\n      <td>...</td>\n      <td>0.0</td>\n      <td>1.0</td>\n      <td>0.0</td>\n      <td>0.0</td>\n      <td>0.0</td>\n      <td>NaN</td>\n      <td>2379</td>\n      <td>466.0</td>\n      <td>236.0</td>\n      <td>1448</td>\n    </tr>\n    <tr>\n      <th>4</th>\n      <td>-9221127186162682116</td>\n      <td>2018-07-23 10:06:00</td>\n      <td>2018-08-09 00:00:00</td>\n      <td>2018-08-10 00:00:00</td>\n      <td>479046</td>\n      <td>TH</td>\n      <td>2013-06-06 10:04:00</td>\n      <td>3.0</td>\n      <td>Resort</td>\n      <td>Pay Later</td>\n      <td>...</td>\n      <td>0.0</td>\n      <td>1.0</td>\n      <td>0.0</td>\n      <td>0.0</td>\n      <td>0.0</td>\n      <td>2018-07-23</td>\n      <td>1506</td>\n      <td>NaN</td>\n      <td>NaN</td>\n      <td>616</td>\n    </tr>\n    <tr>\n      <th>...</th>\n      <td>...</td>\n      <td>...</td>\n      <td>...</td>\n      <td>...</td>\n      <td>...</td>\n      <td>...</td>\n      <td>...</td>\n      <td>...</td>\n      <td>...</td>\n      <td>...</td>\n      <td>...</td>\n      <td>...</td>\n      <td>...</td>\n      <td>...</td>\n      <td>...</td>\n      <td>...</td>\n      <td>...</td>\n      <td>...</td>\n      <td>...</td>\n      <td>...</td>\n      <td>...</td>\n    </tr>\n    <tr>\n      <th>58654</th>\n      <td>9221958224902563533</td>\n      <td>2018-07-18 22:07:00</td>\n      <td>2018-08-04 00:00:00</td>\n      <td>2018-08-05 00:00:00</td>\n      <td>2975682</td>\n      <td>ID</td>\n      <td>2017-10-12 11:01:00</td>\n      <td>2.0</td>\n      <td>Guest House / Bed &amp; Breakfast</td>\n      <td>Pay Now</td>\n      <td>...</td>\n      <td>0.0</td>\n      <td>1.0</td>\n      <td>0.0</td>\n      <td>0.0</td>\n      <td>0.0</td>\n      <td>2018-07-22</td>\n      <td>995</td>\n      <td>NaN</td>\n      <td>NaN</td>\n      <td>2066</td>\n    </tr>\n    <tr>\n      <th>58655</th>\n      <td>9222015611933681753</td>\n      <td>2018-09-05 12:07:00</td>\n      <td>2018-09-06 00:00:00</td>\n      <td>2018-09-08 00:00:00</td>\n      <td>3579174</td>\n      <td>PH</td>\n      <td>2017-11-30 00:42:00</td>\n      <td>4.0</td>\n      <td>Apartment</td>\n      <td>Pay Now</td>\n      <td>...</td>\n      <td>0.0</td>\n      <td>0.0</td>\n      <td>0.0</td>\n      <td>0.0</td>\n      <td>0.0</td>\n      <td>NaN</td>\n      <td>674</td>\n      <td>NaN</td>\n      <td>NaN</td>\n      <td>2310</td>\n    </tr>\n    <tr>\n      <th>58656</th>\n      <td>9222651806661094957</td>\n      <td>2018-06-08 23:23:00</td>\n      <td>2018-08-09 00:00:00</td>\n      <td>2018-08-11 00:00:00</td>\n      <td>407156</td>\n      <td>TH</td>\n      <td>2015-03-14 05:18:00</td>\n      <td>5.0</td>\n      <td>Hotel</td>\n      <td>Pay Now</td>\n      <td>...</td>\n      <td>NaN</td>\n      <td>NaN</td>\n      <td>NaN</td>\n      <td>NaN</td>\n      <td>NaN</td>\n      <td>NaN</td>\n      <td>3823</td>\n      <td>754.0</td>\n      <td>55.0</td>\n      <td>2477</td>\n    </tr>\n    <tr>\n      <th>58657</th>\n      <td>9223221736086584899</td>\n      <td>2018-09-02 08:18:00</td>\n      <td>2018-09-10 00:00:00</td>\n      <td>2018-09-12 00:00:00</td>\n      <td>303186</td>\n      <td>DE</td>\n      <td>2012-04-13 17:48:00</td>\n      <td>0.0</td>\n      <td>Hostel</td>\n      <td>Pay Now</td>\n      <td>...</td>\n      <td>0.0</td>\n      <td>0.0</td>\n      <td>1.0</td>\n      <td>0.0</td>\n      <td>0.0</td>\n      <td>NaN</td>\n      <td>4663</td>\n      <td>NaN</td>\n      <td>NaN</td>\n      <td>1935</td>\n    </tr>\n    <tr>\n      <th>58658</th>\n      <td>9223338323510018406</td>\n      <td>2018-07-07 10:46:00</td>\n      <td>2018-07-12 00:00:00</td>\n      <td>2018-07-14 00:00:00</td>\n      <td>2227632</td>\n      <td>HK</td>\n      <td>2017-06-19 10:06:00</td>\n      <td>4.0</td>\n      <td>Hotel</td>\n      <td>Pay Now</td>\n      <td>...</td>\n      <td>NaN</td>\n      <td>NaN</td>\n      <td>NaN</td>\n      <td>NaN</td>\n      <td>NaN</td>\n      <td>NaN</td>\n      <td>3023</td>\n      <td>477.0</td>\n      <td>638.0</td>\n      <td>142</td>\n    </tr>\n  </tbody>\n</table>\n<p>58659 rows × 39 columns</p>\n</div>"
     },
     "execution_count": 39,
     "metadata": {},
     "output_type": "execute_result"
    }
   ],
   "source": [
    "data"
   ],
   "metadata": {
    "collapsed": false,
    "pycharm": {
     "name": "#%%\n"
    }
   }
  },
  {
   "cell_type": "code",
   "execution_count": 6,
   "outputs": [],
   "source": [
    "data2 = data[\"cancellation_datetime\"].between(\"2018-12-07\", \"2018-12-13\")"
   ],
   "metadata": {
    "collapsed": false,
    "pycharm": {
     "name": "#%%\n"
    }
   }
  },
  {
   "cell_type": "code",
   "execution_count": 16,
   "outputs": [],
   "source": [
    "data2 = data"
   ],
   "metadata": {
    "collapsed": false,
    "pycharm": {
     "name": "#%%\n"
    }
   }
  },
  {
   "cell_type": "code",
   "execution_count": 34,
   "outputs": [],
   "source": [
    "k = pd.get_dummies(data2, columns=['accommadation_type_name', 'charge_option', 'original_payment_type'])"
   ],
   "metadata": {
    "collapsed": false,
    "pycharm": {
     "name": "#%%\n"
    }
   }
  },
  {
   "cell_type": "code",
   "execution_count": null,
   "outputs": [],
   "source": [
    "data2[\"origin_country_code\"] == data2[\"hotel_country_code\"]"
   ],
   "metadata": {
    "collapsed": false,
    "pycharm": {
     "name": "#%%\n"
    }
   }
  },
  {
   "cell_type": "code",
   "execution_count": 38,
   "outputs": [
    {
     "data": {
      "text/plain": "59445"
     },
     "execution_count": 38,
     "metadata": {},
     "output_type": "execute_result"
    }
   ],
   "source": [
    "(k['original_payment_type_Invoice'] + 1).sum()"
   ],
   "metadata": {
    "collapsed": false,
    "pycharm": {
     "name": "#%%\n"
    }
   }
  },
  {
   "cell_type": "code",
   "execution_count": 49,
   "outputs": [
    {
     "ename": "KeyError",
     "evalue": "('cancellation_datetime', 'booking_datetime')",
     "output_type": "error",
     "traceback": [
      "\u001B[1;31m---------------------------------------------------------------------------\u001B[0m",
      "\u001B[1;31mKeyError\u001B[0m                                  Traceback (most recent call last)",
      "\u001B[1;32mC:\\ProgramData\\Anaconda3\\lib\\site-packages\\pandas\\core\\indexes\\base.py\u001B[0m in \u001B[0;36mget_loc\u001B[1;34m(self, key, method, tolerance)\u001B[0m\n\u001B[0;32m   3360\u001B[0m             \u001B[1;32mtry\u001B[0m\u001B[1;33m:\u001B[0m\u001B[1;33m\u001B[0m\u001B[1;33m\u001B[0m\u001B[0m\n\u001B[1;32m-> 3361\u001B[1;33m                 \u001B[1;32mreturn\u001B[0m \u001B[0mself\u001B[0m\u001B[1;33m.\u001B[0m\u001B[0m_engine\u001B[0m\u001B[1;33m.\u001B[0m\u001B[0mget_loc\u001B[0m\u001B[1;33m(\u001B[0m\u001B[0mcasted_key\u001B[0m\u001B[1;33m)\u001B[0m\u001B[1;33m\u001B[0m\u001B[1;33m\u001B[0m\u001B[0m\n\u001B[0m\u001B[0;32m   3362\u001B[0m             \u001B[1;32mexcept\u001B[0m \u001B[0mKeyError\u001B[0m \u001B[1;32mas\u001B[0m \u001B[0merr\u001B[0m\u001B[1;33m:\u001B[0m\u001B[1;33m\u001B[0m\u001B[1;33m\u001B[0m\u001B[0m\n",
      "\u001B[1;32mC:\\ProgramData\\Anaconda3\\lib\\site-packages\\pandas\\_libs\\index.pyx\u001B[0m in \u001B[0;36mpandas._libs.index.IndexEngine.get_loc\u001B[1;34m()\u001B[0m\n",
      "\u001B[1;32mC:\\ProgramData\\Anaconda3\\lib\\site-packages\\pandas\\_libs\\index.pyx\u001B[0m in \u001B[0;36mpandas._libs.index.IndexEngine.get_loc\u001B[1;34m()\u001B[0m\n",
      "\u001B[1;32mpandas\\_libs\\hashtable_class_helper.pxi\u001B[0m in \u001B[0;36mpandas._libs.hashtable.PyObjectHashTable.get_item\u001B[1;34m()\u001B[0m\n",
      "\u001B[1;32mpandas\\_libs\\hashtable_class_helper.pxi\u001B[0m in \u001B[0;36mpandas._libs.hashtable.PyObjectHashTable.get_item\u001B[1;34m()\u001B[0m\n",
      "\u001B[1;31mKeyError\u001B[0m: ('cancellation_datetime', 'booking_datetime')",
      "\nThe above exception was the direct cause of the following exception:\n",
      "\u001B[1;31mKeyError\u001B[0m                                  Traceback (most recent call last)",
      "\u001B[1;32m<ipython-input-49-1d7766edb4b5>\u001B[0m in \u001B[0;36m<module>\u001B[1;34m\u001B[0m\n\u001B[1;32m----> 1\u001B[1;33m \u001B[0mdata\u001B[0m\u001B[1;33m[\u001B[0m\u001B[1;34m\"cancellation_datetime\"\u001B[0m\u001B[1;33m,\u001B[0m \u001B[1;34m\"booking_datetime\"\u001B[0m\u001B[1;33m]\u001B[0m \u001B[1;33m=\u001B[0m \u001B[0mdata\u001B[0m\u001B[1;33m[\u001B[0m\u001B[1;34m\"cancellation_datetime\"\u001B[0m\u001B[1;33m,\u001B[0m \u001B[1;34m\"booking_datetime\"\u001B[0m\u001B[1;33m]\u001B[0m\u001B[1;33m\u001B[0m\u001B[1;33m\u001B[0m\u001B[0m\n\u001B[0m",
      "\u001B[1;32mC:\\ProgramData\\Anaconda3\\lib\\site-packages\\pandas\\core\\frame.py\u001B[0m in \u001B[0;36m__getitem__\u001B[1;34m(self, key)\u001B[0m\n\u001B[0;32m   3456\u001B[0m             \u001B[1;32mif\u001B[0m \u001B[0mself\u001B[0m\u001B[1;33m.\u001B[0m\u001B[0mcolumns\u001B[0m\u001B[1;33m.\u001B[0m\u001B[0mnlevels\u001B[0m \u001B[1;33m>\u001B[0m \u001B[1;36m1\u001B[0m\u001B[1;33m:\u001B[0m\u001B[1;33m\u001B[0m\u001B[1;33m\u001B[0m\u001B[0m\n\u001B[0;32m   3457\u001B[0m                 \u001B[1;32mreturn\u001B[0m \u001B[0mself\u001B[0m\u001B[1;33m.\u001B[0m\u001B[0m_getitem_multilevel\u001B[0m\u001B[1;33m(\u001B[0m\u001B[0mkey\u001B[0m\u001B[1;33m)\u001B[0m\u001B[1;33m\u001B[0m\u001B[1;33m\u001B[0m\u001B[0m\n\u001B[1;32m-> 3458\u001B[1;33m             \u001B[0mindexer\u001B[0m \u001B[1;33m=\u001B[0m \u001B[0mself\u001B[0m\u001B[1;33m.\u001B[0m\u001B[0mcolumns\u001B[0m\u001B[1;33m.\u001B[0m\u001B[0mget_loc\u001B[0m\u001B[1;33m(\u001B[0m\u001B[0mkey\u001B[0m\u001B[1;33m)\u001B[0m\u001B[1;33m\u001B[0m\u001B[1;33m\u001B[0m\u001B[0m\n\u001B[0m\u001B[0;32m   3459\u001B[0m             \u001B[1;32mif\u001B[0m \u001B[0mis_integer\u001B[0m\u001B[1;33m(\u001B[0m\u001B[0mindexer\u001B[0m\u001B[1;33m)\u001B[0m\u001B[1;33m:\u001B[0m\u001B[1;33m\u001B[0m\u001B[1;33m\u001B[0m\u001B[0m\n\u001B[0;32m   3460\u001B[0m                 \u001B[0mindexer\u001B[0m \u001B[1;33m=\u001B[0m \u001B[1;33m[\u001B[0m\u001B[0mindexer\u001B[0m\u001B[1;33m]\u001B[0m\u001B[1;33m\u001B[0m\u001B[1;33m\u001B[0m\u001B[0m\n",
      "\u001B[1;32mC:\\ProgramData\\Anaconda3\\lib\\site-packages\\pandas\\core\\indexes\\base.py\u001B[0m in \u001B[0;36mget_loc\u001B[1;34m(self, key, method, tolerance)\u001B[0m\n\u001B[0;32m   3361\u001B[0m                 \u001B[1;32mreturn\u001B[0m \u001B[0mself\u001B[0m\u001B[1;33m.\u001B[0m\u001B[0m_engine\u001B[0m\u001B[1;33m.\u001B[0m\u001B[0mget_loc\u001B[0m\u001B[1;33m(\u001B[0m\u001B[0mcasted_key\u001B[0m\u001B[1;33m)\u001B[0m\u001B[1;33m\u001B[0m\u001B[1;33m\u001B[0m\u001B[0m\n\u001B[0;32m   3362\u001B[0m             \u001B[1;32mexcept\u001B[0m \u001B[0mKeyError\u001B[0m \u001B[1;32mas\u001B[0m \u001B[0merr\u001B[0m\u001B[1;33m:\u001B[0m\u001B[1;33m\u001B[0m\u001B[1;33m\u001B[0m\u001B[0m\n\u001B[1;32m-> 3363\u001B[1;33m                 \u001B[1;32mraise\u001B[0m \u001B[0mKeyError\u001B[0m\u001B[1;33m(\u001B[0m\u001B[0mkey\u001B[0m\u001B[1;33m)\u001B[0m \u001B[1;32mfrom\u001B[0m \u001B[0merr\u001B[0m\u001B[1;33m\u001B[0m\u001B[1;33m\u001B[0m\u001B[0m\n\u001B[0m\u001B[0;32m   3364\u001B[0m \u001B[1;33m\u001B[0m\u001B[0m\n\u001B[0;32m   3365\u001B[0m         \u001B[1;32mif\u001B[0m \u001B[0mis_scalar\u001B[0m\u001B[1;33m(\u001B[0m\u001B[0mkey\u001B[0m\u001B[1;33m)\u001B[0m \u001B[1;32mand\u001B[0m \u001B[0misna\u001B[0m\u001B[1;33m(\u001B[0m\u001B[0mkey\u001B[0m\u001B[1;33m)\u001B[0m \u001B[1;32mand\u001B[0m \u001B[1;32mnot\u001B[0m \u001B[0mself\u001B[0m\u001B[1;33m.\u001B[0m\u001B[0mhasnans\u001B[0m\u001B[1;33m:\u001B[0m\u001B[1;33m\u001B[0m\u001B[1;33m\u001B[0m\u001B[0m\n",
      "\u001B[1;31mKeyError\u001B[0m: ('cancellation_datetime', 'booking_datetime')"
     ]
    }
   ],
   "source": [
    "data[\"cancellation_datetime\", \"booking_datetime\"] = data[\"cancellation_datetime\", \"booking_datetime\"]"
   ],
   "metadata": {
    "collapsed": false,
    "pycharm": {
     "name": "#%%\n"
    }
   }
  }
 ],
 "metadata": {
  "kernelspec": {
   "name": "pycharm-ab4ddb45",
   "language": "python",
   "display_name": "PyCharm (TheGreatBananaFactory)"
  },
  "language_info": {
   "codemirror_mode": {
    "name": "ipython",
    "version": 2
   },
   "file_extension": ".py",
   "mimetype": "text/x-python",
   "name": "python",
   "nbconvert_exporter": "python",
   "pygments_lexer": "ipython2",
   "version": "2.7.6"
  }
 },
 "nbformat": 4,
 "nbformat_minor": 0
}